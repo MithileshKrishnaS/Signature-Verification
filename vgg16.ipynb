{
  "nbformat": 4,
  "nbformat_minor": 0,
  "metadata": {
    "colab": {
      "name": "vgg16.ipynb",
      "provenance": [],
      "include_colab_link": true
    },
    "kernelspec": {
      "display_name": "Python 3",
      "name": "python3"
    },
    "language_info": {
      "name": "python"
    }
  },
  "cells": [
    {
      "cell_type": "markdown",
      "metadata": {
        "id": "view-in-github",
        "colab_type": "text"
      },
      "source": [
        "<a href=\"https://colab.research.google.com/github/MithileshKrishnaS/Signature-Verification/blob/main/vgg16.ipynb\" target=\"_parent\"><img src=\"https://colab.research.google.com/assets/colab-badge.svg\" alt=\"Open In Colab\"/></a>"
      ]
    },
    {
      "cell_type": "code",
      "metadata": {
        "id": "z2hFyvLNvg6I"
      },
      "source": [
        "from keras.layers import Input, Lambda, Dense, Flatten\n",
        "from keras.models import Model\n",
        "from keras.applications.vgg16 import VGG16\n",
        "from keras.applications.vgg16 import preprocess_input\n",
        "from keras.preprocessing import image\n",
        "from keras.preprocessing.image import ImageDataGenerator\n",
        "from keras.models import Sequential\n",
        "import numpy as np\n",
        "from glob import glob\n",
        "import matplotlib.pyplot as plt\n",
        "from tensorflow import keras"
      ],
      "execution_count": null,
      "outputs": []
    },
    {
      "cell_type": "code",
      "metadata": {
        "colab": {
          "base_uri": "https://localhost:8080/"
        },
        "id": "zD7j4JBkv9kX",
        "outputId": "7fc6bcce-bd64-4028-a239-b21651e34312"
      },
      "source": [
        "from google.colab import drive\n",
        "drive.mount('/content/drive')"
      ],
      "execution_count": null,
      "outputs": [
        {
          "name": "stdout",
          "output_type": "stream",
          "text": [
            "Mounted at /content/drive\n"
          ]
        }
      ]
    },
    {
      "cell_type": "code",
      "metadata": {
        "colab": {
          "base_uri": "https://localhost:8080/"
        },
        "id": "-nDXIvEVvvHA",
        "outputId": "22af4c59-0107-47ce-bf5a-a0b80d1946c2"
      },
      "source": [
        "IMAGE_SIZE = [224, 224]\n",
        "\n",
        "train_path = '/content/drive/MyDrive/noiseless/train'\n",
        "valid_path = '/content/drive/MyDrive/noiseless/test'\n",
        "\n",
        "# add preprocessing layer to the front of VGG\n",
        "vgg = VGG16(input_shape=IMAGE_SIZE + [3], weights='imagenet', include_top=False)\n",
        "\n",
        "# don't train existing weights\n",
        "for layer in vgg.layers:\n",
        "  layer.trainable = False\n",
        "  \n",
        "\n",
        "  \n",
        "  # useful for getting number of classes\n",
        "folders = glob('/content/drive/MyDrive/noiseless/train')\n",
        "print(folders)"
      ],
      "execution_count": null,
      "outputs": [
        {
          "name": "stdout",
          "output_type": "stream",
          "text": [
            "Downloading data from https://storage.googleapis.com/tensorflow/keras-applications/vgg16/vgg16_weights_tf_dim_ordering_tf_kernels_notop.h5\n",
            "58892288/58889256 [==============================] - 1s 0us/step\n",
            "58900480/58889256 [==============================] - 1s 0us/step\n",
            "['/content/drive/MyDrive/noiseless/train']\n"
          ]
        }
      ]
    },
    {
      "cell_type": "code",
      "metadata": {
        "colab": {
          "base_uri": "https://localhost:8080/"
        },
        "id": "zqfj4amywPmA",
        "outputId": "7ff069c2-2888-49de-d8b1-0a876a5acd8f"
      },
      "source": [
        "x = Flatten()(vgg.output)\n",
        "prediction = Dense(10, activation='softmax')(x)\n",
        "model = Model(inputs=vgg.input, outputs=prediction)\n",
        "model.summary()"
      ],
      "execution_count": null,
      "outputs": [
        {
          "name": "stdout",
          "output_type": "stream",
          "text": [
            "Model: \"model\"\n",
            "_________________________________________________________________\n",
            "Layer (type)                 Output Shape              Param #   \n",
            "=================================================================\n",
            "input_1 (InputLayer)         [(None, 224, 224, 3)]     0         \n",
            "_________________________________________________________________\n",
            "block1_conv1 (Conv2D)        (None, 224, 224, 64)      1792      \n",
            "_________________________________________________________________\n",
            "block1_conv2 (Conv2D)        (None, 224, 224, 64)      36928     \n",
            "_________________________________________________________________\n",
            "block1_pool (MaxPooling2D)   (None, 112, 112, 64)      0         \n",
            "_________________________________________________________________\n",
            "block2_conv1 (Conv2D)        (None, 112, 112, 128)     73856     \n",
            "_________________________________________________________________\n",
            "block2_conv2 (Conv2D)        (None, 112, 112, 128)     147584    \n",
            "_________________________________________________________________\n",
            "block2_pool (MaxPooling2D)   (None, 56, 56, 128)       0         \n",
            "_________________________________________________________________\n",
            "block3_conv1 (Conv2D)        (None, 56, 56, 256)       295168    \n",
            "_________________________________________________________________\n",
            "block3_conv2 (Conv2D)        (None, 56, 56, 256)       590080    \n",
            "_________________________________________________________________\n",
            "block3_conv3 (Conv2D)        (None, 56, 56, 256)       590080    \n",
            "_________________________________________________________________\n",
            "block3_pool (MaxPooling2D)   (None, 28, 28, 256)       0         \n",
            "_________________________________________________________________\n",
            "block4_conv1 (Conv2D)        (None, 28, 28, 512)       1180160   \n",
            "_________________________________________________________________\n",
            "block4_conv2 (Conv2D)        (None, 28, 28, 512)       2359808   \n",
            "_________________________________________________________________\n",
            "block4_conv3 (Conv2D)        (None, 28, 28, 512)       2359808   \n",
            "_________________________________________________________________\n",
            "block4_pool (MaxPooling2D)   (None, 14, 14, 512)       0         \n",
            "_________________________________________________________________\n",
            "block5_conv1 (Conv2D)        (None, 14, 14, 512)       2359808   \n",
            "_________________________________________________________________\n",
            "block5_conv2 (Conv2D)        (None, 14, 14, 512)       2359808   \n",
            "_________________________________________________________________\n",
            "block5_conv3 (Conv2D)        (None, 14, 14, 512)       2359808   \n",
            "_________________________________________________________________\n",
            "block5_pool (MaxPooling2D)   (None, 7, 7, 512)         0         \n",
            "_________________________________________________________________\n",
            "flatten (Flatten)            (None, 25088)             0         \n",
            "_________________________________________________________________\n",
            "dense (Dense)                (None, 10)                250890    \n",
            "=================================================================\n",
            "Total params: 14,965,578\n",
            "Trainable params: 250,890\n",
            "Non-trainable params: 14,714,688\n",
            "_________________________________________________________________\n"
          ]
        }
      ]
    },
    {
      "cell_type": "code",
      "metadata": {
        "colab": {
          "base_uri": "https://localhost:8080/"
        },
        "id": "uqvlXFgbwszf",
        "outputId": "0aab5ebc-86f9-473d-9c53-e00cc9e3c979"
      },
      "source": [
        "from keras.preprocessing.image import ImageDataGenerator\n",
        "\n",
        "train_datagen = ImageDataGenerator(rescale = 1./255,\n",
        "                                   shear_range = 0.2,\n",
        "                                   zoom_range = 0.2,\n",
        "                                   horizontal_flip = True)\n",
        "\n",
        "test_datagen = ImageDataGenerator(rescale = 1./255)\n",
        "\n",
        "training_set = train_datagen.flow_from_directory('/content/drive/MyDrive/noiseless/train',\n",
        "                                                 target_size = (224, 224),\n",
        "                                                 batch_size = 8,\n",
        "                                                 class_mode = 'categorical')\n",
        "\n",
        "test_set = test_datagen.flow_from_directory('/content/drive/MyDrive/noiseless/test',\n",
        "                                            target_size = (224, 224),\n",
        "                                            batch_size = 5,\n",
        "                                            class_mode = 'categorical')"
      ],
      "execution_count": null,
      "outputs": [
        {
          "name": "stdout",
          "output_type": "stream",
          "text": [
            "Found 400 images belonging to 10 classes.\n",
            "Found 100 images belonging to 10 classes.\n"
          ]
        }
      ]
    },
    {
      "cell_type": "code",
      "metadata": {
        "id": "35tUWtMKyMSD"
      },
      "source": [
        "model.compile(\n",
        "  loss='categorical_crossentropy',\n",
        "  optimizer='adam',\n",
        "  metrics=['accuracy']\n",
        ")"
      ],
      "execution_count": null,
      "outputs": []
    },
    {
      "cell_type": "code",
      "metadata": {
        "colab": {
          "background_save": true,
          "base_uri": "https://localhost:8080/"
        },
        "id": "mmmDEoAMxBXP",
        "outputId": "893bcdd1-d7f7-4032-d1b7-767405e0868e"
      },
      "source": [
        "r = model.fit(\n",
        "  training_set,\n",
        "  validation_data=test_set,\n",
        "  epochs=25,\n",
        "  steps_per_epoch=50,\n",
        "  validation_steps=20\n",
        ")"
      ],
      "execution_count": null,
      "outputs": [
        {
          "name": "stdout",
          "output_type": "stream",
          "text": [
            "Epoch 1/25\n",
            "50/50 [==============================] - 337s 7s/step - loss: 1.5849 - accuracy: 0.5825 - val_loss: 0.5077 - val_accuracy: 0.8500\n",
            "Epoch 2/25\n",
            "50/50 [==============================] - 255s 5s/step - loss: 0.3360 - accuracy: 0.9100 - val_loss: 0.4303 - val_accuracy: 0.9100\n",
            "Epoch 3/25\n",
            "50/50 [==============================] - 253s 5s/step - loss: 0.1828 - accuracy: 0.9525 - val_loss: 0.2281 - val_accuracy: 0.9300\n",
            "Epoch 4/25\n",
            "50/50 [==============================] - 253s 5s/step - loss: 0.1121 - accuracy: 0.9725 - val_loss: 0.3516 - val_accuracy: 0.8500\n",
            "Epoch 5/25\n",
            "50/50 [==============================] - 253s 5s/step - loss: 0.0714 - accuracy: 0.9875 - val_loss: 0.1973 - val_accuracy: 0.9400\n",
            "Epoch 6/25\n",
            "50/50 [==============================] - 253s 5s/step - loss: 0.0571 - accuracy: 0.9875 - val_loss: 0.1849 - val_accuracy: 0.9500\n",
            "Epoch 7/25\n",
            "50/50 [==============================] - 252s 5s/step - loss: 0.0438 - accuracy: 0.9950 - val_loss: 0.1908 - val_accuracy: 0.9500\n",
            "Epoch 8/25\n",
            "50/50 [==============================] - 252s 5s/step - loss: 0.0246 - accuracy: 0.9975 - val_loss: 0.1517 - val_accuracy: 0.9500\n",
            "Epoch 9/25\n",
            "50/50 [==============================] - 251s 5s/step - loss: 0.0214 - accuracy: 1.0000 - val_loss: 0.1595 - val_accuracy: 0.9400\n",
            "Epoch 10/25\n",
            "50/50 [==============================] - 253s 5s/step - loss: 0.0313 - accuracy: 0.9950 - val_loss: 0.1356 - val_accuracy: 0.9500\n",
            "Epoch 11/25\n",
            "50/50 [==============================] - 252s 5s/step - loss: 0.0298 - accuracy: 0.9975 - val_loss: 0.1597 - val_accuracy: 0.9300\n",
            "Epoch 12/25\n",
            "50/50 [==============================] - 253s 5s/step - loss: 0.0216 - accuracy: 0.9975 - val_loss: 0.1560 - val_accuracy: 0.9500\n",
            "Epoch 13/25\n",
            "50/50 [==============================] - 252s 5s/step - loss: 0.0134 - accuracy: 1.0000 - val_loss: 0.1647 - val_accuracy: 0.9300\n",
            "Epoch 14/25\n",
            "50/50 [==============================] - 252s 5s/step - loss: 0.0110 - accuracy: 1.0000 - val_loss: 0.1646 - val_accuracy: 0.9400\n",
            "Epoch 15/25\n",
            "50/50 [==============================] - 251s 5s/step - loss: 0.0080 - accuracy: 1.0000 - val_loss: 0.1861 - val_accuracy: 0.9200\n",
            "Epoch 16/25\n",
            "50/50 [==============================] - 253s 5s/step - loss: 0.0070 - accuracy: 1.0000 - val_loss: 0.1442 - val_accuracy: 0.9400\n",
            "Epoch 17/25\n",
            "50/50 [==============================] - 256s 5s/step - loss: 0.0075 - accuracy: 1.0000 - val_loss: 0.1063 - val_accuracy: 0.9800\n",
            "Epoch 18/25\n",
            "50/50 [==============================] - 256s 5s/step - loss: 0.0062 - accuracy: 1.0000 - val_loss: 0.1565 - val_accuracy: 0.9400\n",
            "Epoch 19/25\n",
            "50/50 [==============================] - 254s 5s/step - loss: 0.0047 - accuracy: 1.0000 - val_loss: 0.1469 - val_accuracy: 0.9600\n",
            "Epoch 20/25\n",
            "50/50 [==============================] - 255s 5s/step - loss: 0.0047 - accuracy: 1.0000 - val_loss: 0.1653 - val_accuracy: 0.9500\n",
            "Epoch 21/25\n",
            "50/50 [==============================] - 257s 5s/step - loss: 0.0125 - accuracy: 0.9975 - val_loss: 0.1613 - val_accuracy: 0.9500\n",
            "Epoch 22/25\n",
            "50/50 [==============================] - 255s 5s/step - loss: 0.0073 - accuracy: 1.0000 - val_loss: 0.1500 - val_accuracy: 0.9400\n",
            "Epoch 23/25\n",
            "50/50 [==============================] - 253s 5s/step - loss: 0.0045 - accuracy: 1.0000 - val_loss: 0.1615 - val_accuracy: 0.9500\n",
            "Epoch 24/25\n",
            "50/50 [==============================] - 254s 5s/step - loss: 0.0039 - accuracy: 1.0000 - val_loss: 0.1564 - val_accuracy: 0.9500\n",
            "Epoch 25/25\n",
            "50/50 [==============================] - 254s 5s/step - loss: 0.0026 - accuracy: 1.0000 - val_loss: 0.1244 - val_accuracy: 0.9500\n"
          ]
        }
      ]
    },
    {
      "cell_type": "code",
      "metadata": {
        "colab": {
          "background_save": true
        },
        "id": "gRXSJCMq355c"
      },
      "source": [
        "model.save('/content/drive/MyDrive/VGG16/vgg.h5')"
      ],
      "execution_count": null,
      "outputs": []
    },
    {
      "cell_type": "code",
      "metadata": {
        "colab": {
          "background_save": true
        },
        "id": "YzhZmhzn4h96",
        "outputId": "9d05b264-67e9-4f6d-dc6b-5f23c37b6142"
      },
      "source": [
        "plt.plot(r.history['loss'])\n",
        "plt.plot(r.history['val_loss'])\n",
        "plt.title('model loss')\n",
        "plt.ylabel('loss')\n",
        "plt.xlabel('epoch')\n",
        "plt.legend(['train', 'test'], loc='upper left')\n",
        "plt.savefig('loss.png')\n",
        "plt.show()"
      ],
      "execution_count": null,
      "outputs": [
        {
          "data": {
            "image/png": "[encoded data removed]",
            "text/plain": [
              "<Figure size 432x288 with 1 Axes>"
            ]
          },
          "metadata": {},
          "output_type": "display_data"
        }
      ]
    },
    {
      "cell_type": "code",
      "metadata": {
        "colab": {
          "background_save": true
        },
        "id": "s9SWAk0p4PGB",
        "outputId": "42206e26-c29c-41ab-9314-03b868b1b217"
      },
      "source": [
        "# Accuracy plotting\n",
        "plt.plot(r.history['accuracy'])\n",
        "plt.plot(r.history['val_accuracy'])\n",
        "plt.title('model accuracy')\n",
        "plt.ylabel('acc')\n",
        "plt.xlabel('epoch')\n",
        "plt.legend(['train', 'test'], loc='upper left')\n",
        "plt.savefig('accuracy.png')\n",
        "plt.show()"
      ],
      "execution_count": null,
      "outputs": [
        {
          "data": {
            "image/png": "[encoded data removed]",
            "text/plain": [
              "<Figure size 432x288 with 1 Axes>"
            ]
          },
          "metadata": {},
          "output_type": "display_data"
        }
      ]
    },
    {
      "cell_type": "code",
      "metadata": {
        "colab": {
          "background_save": true
        },
        "id": "5BKkJkHF5JBA"
      },
      "source": [
        "from sklearn.metrics import classification_report, confusion_matrix\n",
        "Y_pred = model.predict(test_set)\n",
        "y_pred = np.argmax(Y_pred, axis=1)"
      ],
      "execution_count": null,
      "outputs": []
    },
    {
      "cell_type": "code",
      "metadata": {
        "colab": {
          "background_save": true
        },
        "id": "p9t0RlWe5MbI",
        "outputId": "e65a54cf-0364-41dd-c849-f5fb8697eb40"
      },
      "source": [
        "print(confusion_matrix(test_set.classes,y_pred))"
      ],
      "execution_count": null,
      "outputs": [
        {
          "name": "stdout",
          "output_type": "stream",
          "text": [
            "[[1 1 1 2 0 0 0 0 2 3]\n",
            " [0 2 1 1 2 0 0 1 2 1]\n",
            " [1 0 1 1 1 0 4 1 0 1]\n",
            " [1 0 0 0 1 2 2 1 1 2]\n",
            " [2 1 0 1 1 3 0 0 1 1]\n",
            " [1 0 1 2 0 0 0 3 3 0]\n",
            " [1 2 2 0 1 1 2 0 1 0]\n",
            " [1 2 2 1 0 2 1 0 1 0]\n",
            " [1 1 2 0 1 1 1 1 2 0]\n",
            " [1 1 1 2 2 1 0 0 0 2]]\n"
          ]
        }
      ]
    },
    {
      "cell_type": "code",
      "metadata": {
        "colab": {
          "background_save": true
        },
        "id": "KZwTHW8e5RvS",
        "outputId": "071646c2-c51c-4b45-a3ba-5db289a68e2d"
      },
      "source": [
        "print(classification_report(test_set.classes,y_pred))"
      ],
      "execution_count": null,
      "outputs": [
        {
          "name": "stdout",
          "output_type": "stream",
          "text": [
            "              precision    recall  f1-score   support\n",
            "\n",
            "           0       0.10      0.10      0.10        10\n",
            "           1       0.20      0.20      0.20        10\n",
            "           2       0.09      0.10      0.10        10\n",
            "           3       0.00      0.00      0.00        10\n",
            "           4       0.11      0.10      0.11        10\n",
            "           5       0.00      0.00      0.00        10\n",
            "           6       0.20      0.20      0.20        10\n",
            "           7       0.00      0.00      0.00        10\n",
            "           8       0.15      0.20      0.17        10\n",
            "           9       0.20      0.20      0.20        10\n",
            "\n",
            "    accuracy                           0.11       100\n",
            "   macro avg       0.11      0.11      0.11       100\n",
            "weighted avg       0.11      0.11      0.11       100\n",
            "\n"
          ]
        }
      ]
    }
  ]
}